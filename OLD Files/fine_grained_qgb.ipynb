{
  "nbformat": 4,
  "nbformat_minor": 0,
  "metadata": {
    "colab": {
      "provenance": []
    },
    "kernelspec": {
      "name": "python3",
      "display_name": "Python 3"
    },
    "language_info": {
      "name": "python"
    }
  },
  "cells": [
    {
      "cell_type": "code",
      "source": [
        "pip install qiskit\n"
      ],
      "metadata": {
        "colab": {
          "base_uri": "https://localhost:8080/"
        },
        "id": "f2saRfz2FQGx",
        "outputId": "9529d45b-9561-4f5f-f4cf-191376386035"
      },
      "execution_count": 11,
      "outputs": [
        {
          "output_type": "stream",
          "name": "stdout",
          "text": [
            "Requirement already satisfied: qiskit in /usr/local/lib/python3.11/dist-packages (2.1.1)\n",
            "Requirement already satisfied: rustworkx>=0.15.0 in /usr/local/lib/python3.11/dist-packages (from qiskit) (0.16.0)\n",
            "Requirement already satisfied: numpy<3,>=1.17 in /usr/local/lib/python3.11/dist-packages (from qiskit) (2.0.2)\n",
            "Requirement already satisfied: scipy>=1.5 in /usr/local/lib/python3.11/dist-packages (from qiskit) (1.16.0)\n",
            "Requirement already satisfied: dill>=0.3 in /usr/local/lib/python3.11/dist-packages (from qiskit) (0.3.8)\n",
            "Requirement already satisfied: stevedore>=3.0.0 in /usr/local/lib/python3.11/dist-packages (from qiskit) (5.4.1)\n",
            "Requirement already satisfied: typing-extensions in /usr/local/lib/python3.11/dist-packages (from qiskit) (4.14.1)\n",
            "Requirement already satisfied: pbr>=2.0.0 in /usr/local/lib/python3.11/dist-packages (from stevedore>=3.0.0->qiskit) (6.1.1)\n",
            "Requirement already satisfied: setuptools in /usr/local/lib/python3.11/dist-packages (from pbr>=2.0.0->stevedore>=3.0.0->qiskit) (75.2.0)\n"
          ]
        }
      ]
    },
    {
      "cell_type": "code",
      "source": [
        "pip install qiskit-aer"
      ],
      "metadata": {
        "colab": {
          "base_uri": "https://localhost:8080/"
        },
        "id": "Mj1JfdL_GS_T",
        "outputId": "785f3a40-bd63-41d2-9954-b79b502da2a6"
      },
      "execution_count": 12,
      "outputs": [
        {
          "output_type": "stream",
          "name": "stdout",
          "text": [
            "Requirement already satisfied: qiskit-aer in /usr/local/lib/python3.11/dist-packages (0.17.1)\n",
            "Requirement already satisfied: qiskit>=1.1.0 in /usr/local/lib/python3.11/dist-packages (from qiskit-aer) (2.1.1)\n",
            "Requirement already satisfied: numpy>=1.16.3 in /usr/local/lib/python3.11/dist-packages (from qiskit-aer) (2.0.2)\n",
            "Requirement already satisfied: scipy>=1.0 in /usr/local/lib/python3.11/dist-packages (from qiskit-aer) (1.16.0)\n",
            "Requirement already satisfied: psutil>=5 in /usr/local/lib/python3.11/dist-packages (from qiskit-aer) (5.9.5)\n",
            "Requirement already satisfied: python-dateutil>=2.8.0 in /usr/local/lib/python3.11/dist-packages (from qiskit-aer) (2.9.0.post0)\n",
            "Requirement already satisfied: six>=1.5 in /usr/local/lib/python3.11/dist-packages (from python-dateutil>=2.8.0->qiskit-aer) (1.17.0)\n",
            "Requirement already satisfied: rustworkx>=0.15.0 in /usr/local/lib/python3.11/dist-packages (from qiskit>=1.1.0->qiskit-aer) (0.16.0)\n",
            "Requirement already satisfied: dill>=0.3 in /usr/local/lib/python3.11/dist-packages (from qiskit>=1.1.0->qiskit-aer) (0.3.8)\n",
            "Requirement already satisfied: stevedore>=3.0.0 in /usr/local/lib/python3.11/dist-packages (from qiskit>=1.1.0->qiskit-aer) (5.4.1)\n",
            "Requirement already satisfied: typing-extensions in /usr/local/lib/python3.11/dist-packages (from qiskit>=1.1.0->qiskit-aer) (4.14.1)\n",
            "Requirement already satisfied: pbr>=2.0.0 in /usr/local/lib/python3.11/dist-packages (from stevedore>=3.0.0->qiskit>=1.1.0->qiskit-aer) (6.1.1)\n",
            "Requirement already satisfied: setuptools in /usr/local/lib/python3.11/dist-packages (from pbr>=2.0.0->stevedore>=3.0.0->qiskit>=1.1.0->qiskit-aer) (75.2.0)\n"
          ]
        }
      ]
    },
    {
      "cell_type": "code",
      "source": [
        "from qiskit import QuantumCircuit, transpile\n",
        "from qiskit.visualization import plot_histogram\n",
        "import matplotlib.pyplot as plt\n",
        "import qiskit_aer\n"
      ],
      "metadata": {
        "id": "5tiFqNz5FeVf"
      },
      "execution_count": 13,
      "outputs": []
    },
    {
      "cell_type": "code",
      "source": [
        "from qiskit import QuantumCircuit, transpile\n",
        "from qiskit.visualization import plot_histogram\n",
        "import matplotlib.pyplot as plt\n",
        "import qiskit_aer\n",
        "import numpy as np\n",
        "\n",
        "def biased_qgb(num_rows, theta=np.pi/4):\n",
        "    from qiskit.circuit import QuantumRegister, ClassicalRegister\n",
        "    from qiskit.circuit.library.standard_gates import RXGate, CSwapGate\n",
        "\n",
        "    # Define registers\n",
        "    coin = QuantumRegister(1, 'coin')\n",
        "    position = QuantumRegister(num_rows + 1, 'pos')\n",
        "    classical = ClassicalRegister(num_rows + 1, 'c')\n",
        "    qc = QuantumCircuit(coin, position, classical)\n",
        "\n",
        "    # Initialize ball in the center\n",
        "    middle_index = num_rows // 2\n",
        "    qc.x(position[middle_index])\n",
        "\n",
        "    # Loop through each row (each has one peg interaction)\n",
        "    for row in range(num_rows):\n",
        "        # Reset coin qubit\n",
        "        qc.reset(coin)\n",
        "\n",
        "        # Biased coin toss\n",
        "        qc.append(RXGate(theta), [coin[0]])\n",
        "\n",
        "        # Conditional movement using CSWAP\n",
        "        if row < num_rows:\n",
        "            qc.append(CSwapGate(), [coin[0], position[row], position[row + 1]])\n",
        "\n",
        "        # Peg interaction\n",
        "        qc.cx(coin[0], position[row])\n",
        "\n",
        "        # Corrective CNOT and RESET for rows > 0\n",
        "        for j in range(row):\n",
        "            qc.cx(coin[0], position[j])\n",
        "            qc.reset(position[j])\n",
        "\n",
        "        qc.barrier()\n",
        "\n",
        "    # Measure position qubits\n",
        "    qc.measure(position, classical)\n",
        "\n",
        "    return qc\n",
        "\n",
        "# Parameters\n",
        "num_rows = 5\n",
        "theta = np.pi / 3  # Biased angle\n",
        "\n",
        "# Build circuit\n",
        "qc = biased_qgb(num_rows, theta)\n",
        "print(qc.draw())\n",
        "plt.show()\n",
        "\n",
        "# Simulate with qiskit_aer\n",
        "simulator = qiskit_aer.AerSimulator()\n",
        "tqc = transpile(qc, simulator)\n",
        "result = simulator.run(tqc, shots=2048).result()\n",
        "counts = result.get_counts()\n",
        "\n",
        "# Convert to position distribution\n",
        "position_distribution = {}\n",
        "for bitstring, count in counts.items():\n",
        "    pos = bitstring[::-1]  # Qiskit uses little-endian bit order\n",
        "    index = pos.find('1')  # Position of the ball\n",
        "    if index != -1:\n",
        "        position_distribution[index] = position_distribution.get(index, 0) + count\n",
        "\n",
        "# Plot result\n",
        "plot_histogram(position_distribution, title=\"Fine-Grained Biased Quantum Galton Board\")\n",
        "plt.show()\n"
      ],
      "metadata": {
        "colab": {
          "base_uri": "https://localhost:8080/"
        },
        "id": "TTG1KUFNGq0K",
        "outputId": "4df26c6b-6cb7-43be-bd0c-be704b8e0146"
      },
      "execution_count": 14,
      "outputs": [
        {
          "output_type": "stream",
          "name": "stdout",
          "text": [
            "            ┌─────────┐         ░      ┌─────────┐                   ░      »\n",
            " coin: ─|0>─┤ Rx(π/3) ├─■───■───░──|0>─┤ Rx(π/3) ├─■───■────■────────░──|0>─»\n",
            "            └─────────┘ │ ┌─┴─┐ ░      └─────────┘ │   │  ┌─┴─┐      ░      »\n",
            "pos_0: ─────────────────X─┤ X ├─░──────────────────┼───┼──┤ X ├─|0>──░──────»\n",
            "                        │ └───┘ ░                  │ ┌─┴─┐└───┘      ░      »\n",
            "pos_1: ─────────────────X───────░──────────────────X─┤ X ├───────────░──────»\n",
            "       ┌───┐                    ░                  │ └───┘           ░      »\n",
            "pos_2: ┤ X ├────────────────────░──────────────────X─────────────────░──────»\n",
            "       └───┘                    ░                                    ░      »\n",
            "pos_3: ─────────────────────────░────────────────────────────────────░──────»\n",
            "                                ░                                    ░      »\n",
            "pos_4: ─────────────────────────░────────────────────────────────────░──────»\n",
            "                                ░                                    ░      »\n",
            "pos_5: ─────────────────────────░────────────────────────────────────░──────»\n",
            "                                ░                                    ░      »\n",
            "  c: 6/═════════════════════════════════════════════════════════════════════»\n",
            "                                                                            »\n",
            "«       ┌─────────┐                             ░      ┌─────────┐             »\n",
            "« coin: ┤ Rx(π/3) ├─■───■────■─────────■────────░──|0>─┤ Rx(π/3) ├─■───■────■──»\n",
            "«       └─────────┘ │   │  ┌─┴─┐       │        ░      └─────────┘ │   │  ┌─┴─┐»\n",
            "«pos_0: ────────────┼───┼──┤ X ├─|0>───┼────────░──────────────────┼───┼──┤ X ├»\n",
            "«                   │   │  └───┘     ┌─┴─┐      ░                  │   │  └───┘»\n",
            "«pos_1: ────────────┼───┼────────────┤ X ├─|0>──░──────────────────┼───┼───────»\n",
            "«                   │ ┌─┴─┐          └───┘      ░                  │   │       »\n",
            "«pos_2: ────────────X─┤ X ├─────────────────────░──────────────────┼───┼───────»\n",
            "«                   │ └───┘                     ░                  │ ┌─┴─┐     »\n",
            "«pos_3: ────────────X───────────────────────────░──────────────────X─┤ X ├─────»\n",
            "«                                               ░                  │ └───┘     »\n",
            "«pos_4: ────────────────────────────────────────░──────────────────X───────────»\n",
            "«                                               ░                              »\n",
            "«pos_5: ────────────────────────────────────────░──────────────────────────────»\n",
            "«                                               ░                              »\n",
            "«  c: 6/═══════════════════════════════════════════════════════════════════════»\n",
            "«                                                                              »\n",
            "«                                 ░      ┌─────────┐                       »\n",
            "« coin: ───────■─────────■────────░──|0>─┤ Rx(π/3) ├─■───■────■─────────■──»\n",
            "«              │         │        ░      └─────────┘ │   │  ┌─┴─┐       │  »\n",
            "«pos_0: ─|0>───┼─────────┼────────░──────────────────┼───┼──┤ X ├─|0>───┼──»\n",
            "«            ┌─┴─┐       │        ░                  │   │  └───┘     ┌─┴─┐»\n",
            "«pos_1: ─────┤ X ├─|0>───┼────────░──────────────────┼───┼────────────┤ X ├»\n",
            "«            └───┘     ┌─┴─┐      ░                  │   │            └───┘»\n",
            "«pos_2: ───────────────┤ X ├─|0>──░──────────────────┼───┼─────────────────»\n",
            "«                      └───┘      ░                  │   │                 »\n",
            "«pos_3: ──────────────────────────░──────────────────┼───┼─────────────────»\n",
            "«                                 ░                  │ ┌─┴─┐               »\n",
            "«pos_4: ──────────────────────────░──────────────────X─┤ X ├───────────────»\n",
            "«                                 ░                  │ └───┘               »\n",
            "«pos_5: ──────────────────────────░──────────────────X─────────────────────»\n",
            "«                                 ░                                        »\n",
            "«  c: 6/═══════════════════════════════════════════════════════════════════»\n",
            "«                                                                          »\n",
            "«                                 ░                   \n",
            "« coin: ───────■─────────■────────░───────────────────\n",
            "«              │         │        ░ ┌─┐               \n",
            "«pos_0: ───────┼─────────┼────────░─┤M├───────────────\n",
            "«              │         │        ░ └╥┘┌─┐            \n",
            "«pos_1: ─|0>───┼─────────┼────────░──╫─┤M├────────────\n",
            "«            ┌─┴─┐       │        ░  ║ └╥┘┌─┐         \n",
            "«pos_2: ─────┤ X ├─|0>───┼────────░──╫──╫─┤M├─────────\n",
            "«            └───┘     ┌─┴─┐      ░  ║  ║ └╥┘┌─┐      \n",
            "«pos_3: ───────────────┤ X ├─|0>──░──╫──╫──╫─┤M├──────\n",
            "«                      └───┘      ░  ║  ║  ║ └╥┘┌─┐   \n",
            "«pos_4: ──────────────────────────░──╫──╫──╫──╫─┤M├───\n",
            "«                                 ░  ║  ║  ║  ║ └╥┘┌─┐\n",
            "«pos_5: ──────────────────────────░──╫──╫──╫──╫──╫─┤M├\n",
            "«                                 ░  ║  ║  ║  ║  ║ └╥┘\n",
            "«  c: 6/═════════════════════════════╩══╩══╩══╩══╩══╩═\n",
            "«                                    0  1  2  3  4  5 \n"
          ]
        }
      ]
    },
    {
      "cell_type": "code",
      "source": [],
      "metadata": {
        "id": "Uu73mFfBHIuZ"
      },
      "execution_count": null,
      "outputs": []
    }
  ]
}